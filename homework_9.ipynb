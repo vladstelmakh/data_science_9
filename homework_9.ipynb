{
  "nbformat": 4,
  "nbformat_minor": 0,
  "metadata": {
    "colab": {
      "provenance": []
    },
    "kernelspec": {
      "name": "python3",
      "display_name": "Python 3"
    },
    "language_info": {
      "name": "python"
    }
  },
  "cells": [
    {
      "cell_type": "code",
      "execution_count": 13,
      "metadata": {
        "id": "DIWxuFMSxxCP"
      },
      "outputs": [],
      "source": [
        "import tensorflow as tf\n",
        "from tensorflow.keras.models import Sequential\n",
        "from tensorflow.keras.layers import Dense, Flatten, Dropout\n",
        "from tensorflow.keras.optimizers import Adam\n",
        "from tensorflow.keras.regularizers import l2\n",
        "from tensorflow.keras.layers import Conv2D, MaxPooling2D\n",
        "\n",
        "\n",
        "\n",
        "\n"
      ]
    },
    {
      "cell_type": "markdown",
      "source": [
        "# Завантаження датасету fashion_mnist"
      ],
      "metadata": {
        "id": "Aew5L76GGvFY"
      }
    },
    {
      "cell_type": "code",
      "source": [
        "fashion_mnist = tf.keras.datasets.fashion_mnist\n",
        "(train_images, train_labels), (test_images, test_labels) = fashion_mnist.load_data()"
      ],
      "metadata": {
        "id": "8PNuvR0hGv6Q"
      },
      "execution_count": 35,
      "outputs": []
    },
    {
      "cell_type": "markdown",
      "source": [
        "# Нормалізація даних"
      ],
      "metadata": {
        "id": "TFiHoMZtGxN4"
      }
    },
    {
      "cell_type": "code",
      "source": [
        "\n",
        "train_images = train_images / 255.0\n",
        "test_images = test_images / 255.0"
      ],
      "metadata": {
        "id": "6xMZ4IyFGwxI"
      },
      "execution_count": 36,
      "outputs": []
    },
    {
      "cell_type": "markdown",
      "source": [
        "#Модель"
      ],
      "metadata": {
        "id": "ynmMlN8PGyGY"
      }
    },
    {
      "cell_type": "code",
      "source": [
        "model = Sequential([\n",
        "    Conv2D(32, (3, 3), activation='relu', input_shape=(28, 28, 1)),\n",
        "    MaxPooling2D((2, 2)),\n",
        "    Conv2D(64, (3, 3), activation='relu'),\n",
        "    MaxPooling2D((2, 2)),\n",
        "    Conv2D(64, (3, 3), activation='relu'),\n",
        "    Flatten(),\n",
        "    Dense(64, activation='relu'),\n",
        "    Dense(10, activation='softmax')\n",
        "])\n",
        "\n",
        "model.compile(optimizer='adam',\n",
        "              loss='sparse_categorical_crossentropy',\n",
        "              metrics=['accuracy'])\n",
        "\n",
        "history = model.fit(train_images, train_labels, epochs=13, batch_size=64, validation_split=0.2)"
      ],
      "metadata": {
        "colab": {
          "base_uri": "https://localhost:8080/"
        },
        "id": "RIPO_PkD8cZ9",
        "outputId": "ad2b9dbc-5cad-4446-f8fe-98c28e192641"
      },
      "execution_count": 17,
      "outputs": [
        {
          "output_type": "stream",
          "name": "stdout",
          "text": [
            "Epoch 1/13\n",
            "750/750 [==============================] - 38s 50ms/step - loss: 0.5839 - accuracy: 0.7837 - val_loss: 0.4167 - val_accuracy: 0.8487\n",
            "Epoch 2/13\n",
            "750/750 [==============================] - 37s 49ms/step - loss: 0.3631 - accuracy: 0.8677 - val_loss: 0.3403 - val_accuracy: 0.8741\n",
            "Epoch 3/13\n",
            "750/750 [==============================] - 35s 47ms/step - loss: 0.3103 - accuracy: 0.8870 - val_loss: 0.3075 - val_accuracy: 0.8888\n",
            "Epoch 4/13\n",
            "750/750 [==============================] - 39s 52ms/step - loss: 0.2774 - accuracy: 0.8980 - val_loss: 0.2825 - val_accuracy: 0.8959\n",
            "Epoch 5/13\n",
            "750/750 [==============================] - 37s 49ms/step - loss: 0.2534 - accuracy: 0.9060 - val_loss: 0.2759 - val_accuracy: 0.8996\n",
            "Epoch 6/13\n",
            "750/750 [==============================] - 36s 47ms/step - loss: 0.2310 - accuracy: 0.9135 - val_loss: 0.2637 - val_accuracy: 0.9052\n",
            "Epoch 7/13\n",
            "750/750 [==============================] - 37s 49ms/step - loss: 0.2138 - accuracy: 0.9195 - val_loss: 0.2628 - val_accuracy: 0.9061\n",
            "Epoch 8/13\n",
            "750/750 [==============================] - 37s 49ms/step - loss: 0.1968 - accuracy: 0.9280 - val_loss: 0.2685 - val_accuracy: 0.9040\n",
            "Epoch 9/13\n",
            "750/750 [==============================] - 36s 48ms/step - loss: 0.1830 - accuracy: 0.9317 - val_loss: 0.2501 - val_accuracy: 0.9097\n",
            "Epoch 10/13\n",
            "750/750 [==============================] - 37s 49ms/step - loss: 0.1658 - accuracy: 0.9391 - val_loss: 0.2579 - val_accuracy: 0.9087\n",
            "Epoch 11/13\n",
            "750/750 [==============================] - 37s 49ms/step - loss: 0.1522 - accuracy: 0.9434 - val_loss: 0.2644 - val_accuracy: 0.9087\n",
            "Epoch 12/13\n",
            "750/750 [==============================] - 35s 47ms/step - loss: 0.1389 - accuracy: 0.9488 - val_loss: 0.2707 - val_accuracy: 0.9132\n",
            "Epoch 13/13\n",
            "750/750 [==============================] - 37s 49ms/step - loss: 0.1286 - accuracy: 0.9516 - val_loss: 0.2693 - val_accuracy: 0.9121\n"
          ]
        }
      ]
    },
    {
      "cell_type": "markdown",
      "source": [
        "# Оцінка моделі на тестових даних"
      ],
      "metadata": {
        "id": "a_lSgc9wG0mo"
      }
    },
    {
      "cell_type": "code",
      "source": [
        "\n",
        "test_loss, test_acc = model.evaluate(test_images[-1500:], test_labels[-1500:])\n",
        "\n",
        "print(f\"Точність моделі на тестовому наборі: {test_acc * 100:f}%\")"
      ],
      "metadata": {
        "colab": {
          "base_uri": "https://localhost:8080/"
        },
        "id": "oFkEP_BI8w72",
        "outputId": "ffc3d643-390f-4255-adf7-7a8e0b7e6ae5"
      },
      "execution_count": 37,
      "outputs": [
        {
          "output_type": "stream",
          "name": "stdout",
          "text": [
            "47/47 [==============================] - 0s 7ms/step - loss: 0.2466 - accuracy: 0.9120\n",
            "Точність моделі на тестовому наборі: 91.200000%\n"
          ]
        }
      ]
    }
  ]
}